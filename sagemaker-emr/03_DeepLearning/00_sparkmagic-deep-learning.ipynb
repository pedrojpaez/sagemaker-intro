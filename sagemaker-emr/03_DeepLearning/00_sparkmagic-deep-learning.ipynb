{
 "cells": [
  {
   "cell_type": "markdown",
   "metadata": {},
   "source": [
    "# EMR Data Prep + SageMaker Deep Learning\n",
    "\n",
    "This notebook is tested using `Studio SparkMagic - PySpark Kernel` running on a `ml.t3.medium` instance and connected to an EMR clsuter with an `m5.xlarge` Master node and 2 `m5.xlarge` Core nodes. Please ensure that you see `PySpark (SparkMagic)` in the top right on your notebook.\n",
    "\n",
    "In this 3 part notebook lesson, we'll see how to use EMR for data prep and serialization to S3. Next we'll prototype a deep learning architecture using SageMaker Studio notebooks, and lastly we'll scale the training using SageMaker ephemeral training jobs."
   ]
  },
  {
   "cell_type": "code",
   "execution_count": null,
   "metadata": {},
   "outputs": [],
   "source": [
    "# %load_ext sagemaker_studio_analytics_extension.magics\n",
    "# %sm_analytics emr connect --cluster_id j-xxxxxxxxxxxx --auth-type None "
   ]
  },
  {
   "cell_type": "markdown",
   "metadata": {},
   "source": [
    "## Inspect the public NYC Taxi Dataset"
   ]
  },
  {
   "cell_type": "code",
   "execution_count": 2,
   "metadata": {},
   "outputs": [
    {
     "name": "stdout",
     "output_type": "stream",
     "text": [
      "2016-08-12 12:07:19  220.3 MiB green_tripdata_2016-01.csv\n",
      "2016-08-12 12:08:24  230.2 MiB green_tripdata_2016-02.csv\n",
      "2016-08-12 12:09:18  240.3 MiB green_tripdata_2016-03.csv\n",
      "2016-08-12 12:04:43  235.5 MiB green_tripdata_2016-04.csv\n",
      "2016-08-12 12:05:31  234.5 MiB green_tripdata_2016-05.csv\n",
      "2016-08-12 12:06:26  214.2 MiB green_tripdata_2016-06.csv\n",
      "2017-01-17 19:33:38  116.6 MiB green_tripdata_2016-07.csv\n",
      "2017-01-17 19:34:13  109.1 MiB green_tripdata_2016-08.csv\n",
      "2017-01-17 19:31:30  101.6 MiB green_tripdata_2016-09.csv\n",
      "2017-01-17 19:31:58  109.5 MiB green_tripdata_2016-10.csv\n",
      "2017-01-17 19:32:30  100.3 MiB green_tripdata_2016-11.csv\n",
      "2017-01-17 19:33:07  106.8 MiB green_tripdata_2016-12.csv\n"
     ]
    }
   ],
   "source": [
    "%%local\n",
    "!aws s3 ls \"s3://nyc-tlc/trip data/green\" --human-readable | grep green_tripdata_2016"
   ]
  },
  {
   "cell_type": "code",
   "execution_count": 3,
   "metadata": {},
   "outputs": [
    {
     "data": {
      "application/vnd.jupyter.widget-view+json": {
       "model_id": "",
       "version_major": 2,
       "version_minor": 0
      },
      "text/plain": [
       "FloatProgress(value=0.0, bar_style='info', description='Progress:', layout=Layout(height='25px', width='50%'),…"
      ]
     },
     "metadata": {},
     "output_type": "display_data"
    },
    {
     "name": "stdout",
     "output_type": "stream",
     "text": [
      "16385532"
     ]
    }
   ],
   "source": [
    "df = spark.read.csv(\"s3://nyc-tlc/trip data/green_tripdata_2016*.csv\", header=True, inferSchema=True, timestampFormat='yyyy-MM-dd HH:mm:ss').cache()\n",
    "df.count()"
   ]
  },
  {
   "cell_type": "markdown",
   "metadata": {},
   "source": [
    "## Format the dataset"
   ]
  },
  {
   "cell_type": "code",
   "execution_count": 4,
   "metadata": {},
   "outputs": [
    {
     "data": {
      "application/vnd.jupyter.widget-view+json": {
       "model_id": "",
       "version_major": 2,
       "version_minor": 0
      },
      "text/plain": [
       "FloatProgress(value=0.0, bar_style='info', description='Progress:', layout=Layout(height='25px', width='50%'),…"
      ]
     },
     "metadata": {},
     "output_type": "display_data"
    },
    {
     "data": {
      "text/html": [
       "<table><tr><th>day_of_week</th><th>month</th><th>hour</th><th>pickup_latitude</th><th>pickup_longitude</th><th>dropoff_latitude</th><th>dropoff_longitude</th><th>trip_distance</th><th>fare_amount</th></tr><tr><td>6</td><td>1</td><td>0</td><td>40.680610656738281</td><td>-73.928642272949219</td><td>40.698043823242188</td><td>40.698043823242188</td><td>1.46</td><td>8</td></tr><tr><td>6</td><td>1</td><td>0</td><td>40.723175048828125</td><td>-73.952674865722656</td><td>40.761379241943359</td><td>40.761379241943359</td><td>3.56</td><td>15.5</td></tr><tr><td>6</td><td>1</td><td>0</td><td>40.676105499267578</td><td>-73.971611022949219</td><td>40.646072387695313</td><td>40.646072387695313</td><td>3.79</td><td>16.5</td></tr><tr><td>6</td><td>1</td><td>0</td><td>40.669578552246094</td><td>-73.989501953125</td><td>40.689033508300781</td><td>40.689033508300781</td><td>3.01</td><td>13.5</td></tr><tr><td>6</td><td>1</td><td>0</td><td>40.682853698730469</td><td>-73.964729309082031</td><td>40.663013458251953</td><td>40.663013458251953</td><td>2.55</td><td>12</td></tr><tr><td>6</td><td>1</td><td>0</td><td>40.746456146240234</td><td>-73.891143798828125</td><td>40.742111206054688</td><td>40.742111206054688</td><td>1.37</td><td>7</td></tr><tr><td>6</td><td>1</td><td>0</td><td>40.746196746826172</td><td>-73.896675109863281</td><td>40.745689392089844</td><td>40.745689392089844</td><td>.57</td><td>5</td></tr><tr><td>6</td><td>1</td><td>0</td><td>40.803558349609375</td><td>-73.953353881835937</td><td>40.794120788574219</td><td>40.794120788574219</td><td>1.01</td><td>7</td></tr><tr><td>6</td><td>1</td><td>0</td><td>40.702816009521484</td><td>-73.994064331054688</td><td>40.679725646972656</td><td>40.679725646972656</td><td>2.46</td><td>12</td></tr><tr><td>6</td><td>1</td><td>0</td><td>40.756641387939453</td><td>-73.914131164550781</td><td>40.739658355712891</td><td>40.739658355712891</td><td>1.61</td><td>9</td></tr><tr><td>6</td><td>1</td><td>0</td><td>40.761829376220703</td><td>-73.911178588867188</td><td>40.763126373291016</td><td>40.763126373291016</td><td>.72</td><td>6</td></tr><tr><td>6</td><td>1</td><td>0</td><td>40.715328216552734</td><td>-73.958168029785156</td><td>40.718177795410156</td><td>40.718177795410156</td><td>.32</td><td>3.5</td></tr><tr><td>6</td><td>1</td><td>0</td><td>40.800785064697266</td><td>-73.946678161621094</td><td>40.842765808105469</td><td>40.842765808105469</td><td>3.54</td><td>14.5</td></tr><tr><td>6</td><td>1</td><td>0</td><td>40.763439178466797</td><td>-73.914291381835938</td><td>40.775833129882812</td><td>40.775833129882812</td><td>1.10</td><td>6</td></tr><tr><td>6</td><td>1</td><td>0</td><td>40.824314117431641</td><td>-73.943374633789063</td><td>40.850196838378906</td><td>40.850196838378906</td><td>2.28</td><td>11</td></tr><tr><td>6</td><td>1</td><td>0</td><td>40.632152557373047</td><td>-73.96697998046875</td><td>40.640159606933594</td><td>40.640159606933594</td><td>.68</td><td>4.5</td></tr><tr><td>6</td><td>1</td><td>0</td><td>40.814445495605469</td><td>-73.937843322753906</td><td>40.811866760253906</td><td>40.811866760253906</td><td>1.36</td><td>10</td></tr><tr><td>6</td><td>1</td><td>0</td><td>40.690513610839844</td><td>-73.990364074707031</td><td>40.693325042724609</td><td>40.693325042724609</td><td>3.07</td><td>15.5</td></tr><tr><td>6</td><td>1</td><td>0</td><td>40.74755859375</td><td>-73.883827209472656</td><td>40.751564025878906</td><td>40.751564025878906</td><td>1.52</td><td>7.5</td></tr><tr><td>6</td><td>1</td><td>0</td><td>40.684413909912109</td><td>-73.980354309082031</td><td>40.659637451171875</td><td>40.659637451171875</td><td>2.55</td><td>11.5</td></tr></table><br /><pre>only showing top 20 rows</pre>"
      ],
      "text/plain": [
       "<IPython.core.display.HTML object>"
      ]
     },
     "metadata": {},
     "output_type": "display_data"
    }
   ],
   "source": [
    "%%pretty\n",
    "from pyspark.sql.functions import col, dayofweek, month, hour\n",
    "df_dt = df.select(dayofweek(col('lpep_pickup_datetime')).alias('day_of_week'),\n",
    "                   month(col('lpep_pickup_datetime')).alias('month'),\n",
    "                   hour(col('lpep_pickup_datetime')).alias('hour'),\n",
    "                   col(\"Pickup_latitude\").alias(\"pickup_latitude\"),\n",
    "                   col(\"Pickup_longitude\").alias(\"pickup_longitude\"),\n",
    "                   col(\"Dropoff_latitude\").alias(\"dropoff_latitude\"),\n",
    "                   col(\"Dropoff_latitude\").alias(\"dropoff_longitude\"),\n",
    "                   col(\"Trip_distance\").alias(\"trip_distance\"),\n",
    "                   col(\"Fare_amount\").alias(\"fare_amount\")\n",
    "                  )\n",
    "df_dt.show()"
   ]
  },
  {
   "cell_type": "markdown",
   "metadata": {},
   "source": [
    "## Run Data Clean Up at Scale on the Cluster"
   ]
  },
  {
   "cell_type": "code",
   "execution_count": 5,
   "metadata": {},
   "outputs": [
    {
     "data": {
      "application/vnd.jupyter.widget-view+json": {
       "model_id": "",
       "version_major": 2,
       "version_minor": 0
      },
      "text/plain": [
       "FloatProgress(value=0.0, bar_style='info', description='Progress:', layout=Layout(height='25px', width='50%'),…"
      ]
     },
     "metadata": {},
     "output_type": "display_data"
    },
    {
     "name": "stdout",
     "output_type": "stream",
     "text": [
      "8973394"
     ]
    }
   ],
   "source": [
    "df_dt = df_dt[\n",
    "    (df_dt.fare_amount > 0)\n",
    "    & (df_dt.fare_amount < 200)    \n",
    "]\n",
    "df_dt.count()"
   ]
  },
  {
   "cell_type": "code",
   "execution_count": 8,
   "metadata": {},
   "outputs": [
    {
     "data": {
      "application/vnd.jupyter.widget-view+json": {
       "model_id": "",
       "version_major": 2,
       "version_minor": 0
      },
      "text/plain": [
       "FloatProgress(value=0.0, bar_style='info', description='Progress:', layout=Layout(height='25px', width='50%'),…"
      ]
     },
     "metadata": {},
     "output_type": "display_data"
    },
    {
     "data": {
      "text/html": [
       "<table><tr><th>day_of_week</th><th>month</th><th>hour</th><th>pickup_latitude</th><th>pickup_longitude</th><th>dropoff_latitude</th><th>dropoff_longitude</th><th>trip_distance</th><th>fare_amount</th></tr><tr><td>6</td><td>1</td><td>0</td><td>40.680610656738281</td><td>-73.928642272949219</td><td>40.698043823242188</td><td>40.698043823242188</td><td>1.46</td><td>8</td></tr><tr><td>6</td><td>1</td><td>0</td><td>40.723175048828125</td><td>-73.952674865722656</td><td>40.761379241943359</td><td>40.761379241943359</td><td>3.56</td><td>15.5</td></tr><tr><td>6</td><td>1</td><td>0</td><td>40.676105499267578</td><td>-73.971611022949219</td><td>40.646072387695313</td><td>40.646072387695313</td><td>3.79</td><td>16.5</td></tr><tr><td>6</td><td>1</td><td>0</td><td>40.669578552246094</td><td>-73.989501953125</td><td>40.689033508300781</td><td>40.689033508300781</td><td>3.01</td><td>13.5</td></tr><tr><td>6</td><td>1</td><td>0</td><td>40.682853698730469</td><td>-73.964729309082031</td><td>40.663013458251953</td><td>40.663013458251953</td><td>2.55</td><td>12</td></tr><tr><td>6</td><td>1</td><td>0</td><td>40.746456146240234</td><td>-73.891143798828125</td><td>40.742111206054688</td><td>40.742111206054688</td><td>1.37</td><td>7</td></tr><tr><td>6</td><td>1</td><td>0</td><td>40.746196746826172</td><td>-73.896675109863281</td><td>40.745689392089844</td><td>40.745689392089844</td><td>.57</td><td>5</td></tr><tr><td>6</td><td>1</td><td>0</td><td>40.803558349609375</td><td>-73.953353881835937</td><td>40.794120788574219</td><td>40.794120788574219</td><td>1.01</td><td>7</td></tr><tr><td>6</td><td>1</td><td>0</td><td>40.702816009521484</td><td>-73.994064331054688</td><td>40.679725646972656</td><td>40.679725646972656</td><td>2.46</td><td>12</td></tr><tr><td>6</td><td>1</td><td>0</td><td>40.756641387939453</td><td>-73.914131164550781</td><td>40.739658355712891</td><td>40.739658355712891</td><td>1.61</td><td>9</td></tr><tr><td>6</td><td>1</td><td>0</td><td>40.761829376220703</td><td>-73.911178588867188</td><td>40.763126373291016</td><td>40.763126373291016</td><td>.72</td><td>6</td></tr><tr><td>6</td><td>1</td><td>0</td><td>40.715328216552734</td><td>-73.958168029785156</td><td>40.718177795410156</td><td>40.718177795410156</td><td>.32</td><td>3.5</td></tr><tr><td>6</td><td>1</td><td>0</td><td>40.800785064697266</td><td>-73.946678161621094</td><td>40.842765808105469</td><td>40.842765808105469</td><td>3.54</td><td>14.5</td></tr><tr><td>6</td><td>1</td><td>0</td><td>40.763439178466797</td><td>-73.914291381835938</td><td>40.775833129882812</td><td>40.775833129882812</td><td>1.10</td><td>6</td></tr><tr><td>6</td><td>1</td><td>0</td><td>40.824314117431641</td><td>-73.943374633789063</td><td>40.850196838378906</td><td>40.850196838378906</td><td>2.28</td><td>11</td></tr><tr><td>6</td><td>1</td><td>0</td><td>40.632152557373047</td><td>-73.96697998046875</td><td>40.640159606933594</td><td>40.640159606933594</td><td>.68</td><td>4.5</td></tr><tr><td>6</td><td>1</td><td>0</td><td>40.814445495605469</td><td>-73.937843322753906</td><td>40.811866760253906</td><td>40.811866760253906</td><td>1.36</td><td>10</td></tr><tr><td>6</td><td>1</td><td>0</td><td>40.690513610839844</td><td>-73.990364074707031</td><td>40.693325042724609</td><td>40.693325042724609</td><td>3.07</td><td>15.5</td></tr><tr><td>6</td><td>1</td><td>0</td><td>40.74755859375</td><td>-73.883827209472656</td><td>40.751564025878906</td><td>40.751564025878906</td><td>1.52</td><td>7.5</td></tr><tr><td>6</td><td>1</td><td>0</td><td>40.684413909912109</td><td>-73.980354309082031</td><td>40.659637451171875</td><td>40.659637451171875</td><td>2.55</td><td>11.5</td></tr></table><br /><pre>only showing top 20 rows\n",
       "\n",
       "8959976</pre>"
      ],
      "text/plain": [
       "<IPython.core.display.HTML object>"
      ]
     },
     "metadata": {},
     "output_type": "display_data"
    }
   ],
   "source": [
    "%%pretty\n",
    "df_dt = df_dt[\n",
    "    (df_dt.pickup_latitude != 0)    \n",
    "]\n",
    "df_dt.show()\n",
    "df_dt.count()"
   ]
  },
  {
   "cell_type": "code",
   "execution_count": 9,
   "metadata": {},
   "outputs": [
    {
     "data": {
      "application/vnd.jupyter.widget-view+json": {
       "model_id": "",
       "version_major": 2,
       "version_minor": 0
      },
      "text/plain": [
       "FloatProgress(value=0.0, bar_style='info', description='Progress:', layout=Layout(height='25px', width='50%'),…"
      ]
     },
     "metadata": {},
     "output_type": "display_data"
    },
    {
     "name": "stdout",
     "output_type": "stream",
     "text": [
      "Train Count: 7169617\n",
      "Validation Count: 89392\n",
      "Test Count: 1700967"
     ]
    }
   ],
   "source": [
    "train_df, val_df = df_dt.randomSplit([0.8, 0.2], seed=42)\n",
    "val_df, test_df = val_df.randomSplit([0.05, 0.95], seed=42)\n",
    "\n",
    "print(\"Train Count:\", train_df.count())\n",
    "print(\"Validation Count:\", val_df.count())\n",
    "print(\"Test Count:\", test_df.count())"
   ]
  },
  {
   "cell_type": "code",
   "execution_count": 10,
   "metadata": {},
   "outputs": [
    {
     "name": "stdout",
     "output_type": "stream",
     "text": [
      "sagemaker-us-west-1-176842773820/nyc-taxi/data/processed\n"
     ]
    }
   ],
   "source": [
    "%%local \n",
    "import sagemaker\n",
    "\n",
    "sess = sagemaker.Session()\n",
    "role = sagemaker.get_execution_role()\n",
    "bucket = sess.default_bucket()\n",
    "\n",
    "data_bucket = f\"{bucket}/nyc-taxi/data/processed\"\n",
    "print(data_bucket)"
   ]
  },
  {
   "cell_type": "code",
   "execution_count": 11,
   "metadata": {},
   "outputs": [
    {
     "data": {
      "application/vnd.jupyter.widget-view+json": {
       "model_id": "",
       "version_major": 2,
       "version_minor": 0
      },
      "text/plain": [
       "FloatProgress(value=0.0, bar_style='info', description='Progress:', layout=Layout(height='25px', width='50%'),…"
      ]
     },
     "metadata": {},
     "output_type": "display_data"
    },
    {
     "name": "stdout",
     "output_type": "stream",
     "text": [
      "Successfully passed 'data_bucket' as 'data_bucket' to Spark kernel"
     ]
    }
   ],
   "source": [
    "%%send_to_spark -i data_bucket -t str -n data_bucket"
   ]
  },
  {
   "cell_type": "code",
   "execution_count": 12,
   "metadata": {},
   "outputs": [
    {
     "data": {
      "application/vnd.jupyter.widget-view+json": {
       "model_id": "",
       "version_major": 2,
       "version_minor": 0
      },
      "text/plain": [
       "FloatProgress(value=0.0, bar_style='info', description='Progress:', layout=Layout(height='25px', width='50%'),…"
      ]
     },
     "metadata": {},
     "output_type": "display_data"
    }
   ],
   "source": [
    "train_df.write.csv(f\"s3://{data_bucket}/train\", mode='overwrite')\n",
    "test_df.write.csv(f\"s3://{data_bucket}/test\", mode='overwrite')"
   ]
  },
  {
   "cell_type": "markdown",
   "metadata": {},
   "source": [
    "## Store data location for next notebook"
   ]
  },
  {
   "cell_type": "code",
   "execution_count": 13,
   "metadata": {},
   "outputs": [
    {
     "name": "stdout",
     "output_type": "stream",
     "text": [
      "Stored 'data_bucket' (str)\n"
     ]
    }
   ],
   "source": [
    "%store data_bucket"
   ]
  },
  {
   "cell_type": "code",
   "execution_count": null,
   "metadata": {},
   "outputs": [],
   "source": []
  }
 ],
 "metadata": {
  "instance_type": "ml.t3.medium",
  "kernelspec": {
   "display_name": "PySpark (SparkMagic)",
   "language": "python",
   "name": "pysparkkernel__SAGEMAKER_INTERNAL__arn:aws:sagemaker:us-west-1:742091327244:image/sagemaker-sparkmagic"
  },
  "language_info": {
   "codemirror_mode": {
    "name": "python",
    "version": 3
   },
   "file_extension": ".py",
   "mimetype": "text/x-python",
   "name": "pyspark",
   "pygments_lexer": "python3"
  }
 },
 "nbformat": 4,
 "nbformat_minor": 4
}
